{
 "cells": [
  {
   "cell_type": "markdown",
   "metadata": {},
   "source": [
    "# Test env"
   ]
  },
  {
   "cell_type": "code",
   "execution_count": 1,
   "metadata": {},
   "outputs": [
    {
     "name": "stderr",
     "output_type": "stream",
     "text": [
      "/opt/homebrew/lib/python3.11/site-packages/pypdf/_crypt_providers/_cryptography.py:32: CryptographyDeprecationWarning: ARC4 has been moved to cryptography.hazmat.decrepit.ciphers.algorithms.ARC4 and will be removed from this module in 48.0.0.\n",
      "  from cryptography.hazmat.primitives.ciphers.algorithms import AES, ARC4\n"
     ]
    }
   ],
   "source": [
    "\n",
    "#imports\n",
    "import os\n",
    "import streamlit as st\n",
    "from PIL import Image\n",
    "from loguru import logger\n",
    "# local imports\n",
    "from ingest.ingester import Ingester\n",
    "from query.querier import Querier\n",
    "from summarize.summarizer import Summarizer\n",
    "import settings\n",
    "import utils as ut\n",
    "from query.querier import EnumMode\n",
    "from ingest.ingester import IngestionMode\n"
   ]
  },
  {
   "cell_type": "code",
   "execution_count": 2,
   "metadata": {},
   "outputs": [],
   "source": [
    "SYSTEM_PROMPT= \"\"\"\n",
    "### OBJECTIVE ###\n",
    "Je bent een assistent voor de rijksoverheid. Jouw taak is om vragen te beantwoorden in het Nederlands. Zorg ervoor dat je alleen antwoord geeft op basis van de beschikbare context en dat je daar ook naar verwijst in je antwoord.\n",
    "\n",
    "### AUDIENCE ###\n",
    "De doelgroep van jouw antwoorden zijn ambtenaren. Geef alle relevante informatie uit de context, antwoord in het Nederlands leg in maximaal 100 woorden zoveel mogelijk uit.\n",
    "\n",
    "### GUARDRAILS ###\n",
    "Indien de context onvoldoende informatie bevat om de vraag te beantwoorden, verzin dan geen informatie maar geef aan dat er onvoldoende informatie beschikbaar is.\n",
    "\n",
    "### INSTRUCTIONS ###\n",
    "- Beantwoord de vraag altijd in het Nederlands, zelfs als de context in het Engels is gesteld.\n",
    "- Vermijd het herhalen van de vraag in het antwoord en het herhalen van de instructies. Voer de instructies uit en geef een concreet antwoord op de gestelde vraag.\n",
    "- Geef een stapsgewijze redenering bij het beantwoorden van de vraag en refereer naar specifieke zinnen uit de context die hebben bijgedragen aan het antwoord.\n",
    "- Houd je antwoord nauw verbonden met de context en vermijd het toevoegen van informatie die niet expliciet in de context wordt vermeld.\n",
    "\n",
    "- Voor meer informatie over de context, zeg het bestandsnaam die gevonden is in de source_document. Mits deze beschikbaar is.\n",
    "\n",
    "### QUESTION ### \\n\n",
    "\"\"\""
   ]
  },
  {
   "cell_type": "code",
   "execution_count": 3,
   "metadata": {},
   "outputs": [
    {
     "name": "stderr",
     "output_type": "stream",
     "text": [
      "/opt/homebrew/lib/python3.11/site-packages/tqdm/auto.py:21: TqdmWarning: IProgress not found. Please update jupyter and ipywidgets. See https://ipywidgets.readthedocs.io/en/stable/user_install.html\n",
      "  from .autonotebook import tqdm as notebook_tqdm\n",
      "\u001b[32m2024-09-23 17:13:36.061\u001b[0m | \u001b[1mINFO    \u001b[0m | \u001b[36mutils\u001b[0m:\u001b[36mgetEmbeddings\u001b[0m:\u001b[36m91\u001b[0m - \u001b[1mLoaded local embeddings: textgain/allnli-GroNLP-bert-base-dutch-cased\u001b[0m\n",
      "\u001b[32m2024-09-23 17:13:36.062\u001b[0m | \u001b[1mINFO    \u001b[0m | \u001b[36mllm_class.llm_class\u001b[0m:\u001b[36m__init__\u001b[0m:\u001b[36m38\u001b[0m - \u001b[1mUse Local LLM\u001b[0m\n",
      "\u001b[32m2024-09-23 17:13:36.062\u001b[0m | \u001b[1mINFO    \u001b[0m | \u001b[36mllm_class.llm_class\u001b[0m:\u001b[36m__init__\u001b[0m:\u001b[36m39\u001b[0m - \u001b[1mRetrieving mistral-openorca\u001b[0m\n",
      "\u001b[32m2024-09-23 17:13:36.063\u001b[0m | \u001b[1mINFO    \u001b[0m | \u001b[36mllm_class.llm_class\u001b[0m:\u001b[36m__init__\u001b[0m:\u001b[36m41\u001b[0m - \u001b[1mUsing local api url http://127.0.0.1:11434\u001b[0m\n",
      "\u001b[32m2024-09-23 17:13:36.064\u001b[0m | \u001b[1mINFO    \u001b[0m | \u001b[36mllm_class.llm_class\u001b[0m:\u001b[36m__init__\u001b[0m:\u001b[36m52\u001b[0m - \u001b[1mRetrieved mistral-openorca\u001b[0m\n",
      "\u001b[32m2024-09-23 17:13:37.221\u001b[0m | \u001b[1mINFO    \u001b[0m | \u001b[36mutils\u001b[0m:\u001b[36mgetEmbeddings\u001b[0m:\u001b[36m91\u001b[0m - \u001b[1mLoaded local embeddings: textgain/allnli-GroNLP-bert-base-dutch-cased\u001b[0m\n",
      "\u001b[32m2024-09-23 17:13:37.241\u001b[0m | \u001b[1mINFO    \u001b[0m | \u001b[36mingest.ingester\u001b[0m:\u001b[36mingest\u001b[0m:\u001b[36m134\u001b[0m - \u001b[1mSkipping ingestion of file 3c4c58eb-b690-4f28-8307-019a8a68f5bc.doc because it has extension .doc\u001b[0m\n",
      "\u001b[32m2024-09-23 17:13:37.241\u001b[0m | \u001b[1mINFO    \u001b[0m | \u001b[36mingest.ingester\u001b[0m:\u001b[36mingest\u001b[0m:\u001b[36m134\u001b[0m - \u001b[1mSkipping ingestion of file 8f15c7d9-8304-4126-a0b9-0332c104b6ab.doc because it has extension .doc\u001b[0m\n",
      "\u001b[32m2024-09-23 17:13:37.241\u001b[0m | \u001b[1mINFO    \u001b[0m | \u001b[36mingest.ingester\u001b[0m:\u001b[36mingest\u001b[0m:\u001b[36m134\u001b[0m - \u001b[1mSkipping ingestion of file .DS_Store because it has extension tore\u001b[0m\n",
      "\u001b[32m2024-09-23 17:13:37.242\u001b[0m | \u001b[1mINFO    \u001b[0m | \u001b[36mingest.ingester\u001b[0m:\u001b[36mingest\u001b[0m:\u001b[36m134\u001b[0m - \u001b[1mSkipping ingestion of file e85d61e3-d76e-41bb-9056-01b8cd58ff0c.doc because it has extension .doc\u001b[0m\n",
      "\u001b[32m2024-09-23 17:13:37.242\u001b[0m | \u001b[1mINFO    \u001b[0m | \u001b[36mingest.ingester\u001b[0m:\u001b[36mingest\u001b[0m:\u001b[36m134\u001b[0m - \u001b[1mSkipping ingestion of file 7342ad9e-d581-4ad6-a95f-017088c5805e.doc because it has extension .doc\u001b[0m\n",
      "\u001b[32m2024-09-23 17:13:37.242\u001b[0m | \u001b[1mINFO    \u001b[0m | \u001b[36mingest.ingester\u001b[0m:\u001b[36mingest\u001b[0m:\u001b[36m134\u001b[0m - \u001b[1mSkipping ingestion of file a2eaabac-f5a9-41b5-ac39-01ed02e1d690.doc because it has extension .doc\u001b[0m\n",
      "\u001b[32m2024-09-23 17:13:37.243\u001b[0m | \u001b[1mINFO    \u001b[0m | \u001b[36mingest.ingester\u001b[0m:\u001b[36mingest\u001b[0m:\u001b[36m134\u001b[0m - \u001b[1mSkipping ingestion of file b8cec063-b970-45c3-95f1-03206f9dc490.doc because it has extension .doc\u001b[0m\n",
      "\u001b[32m2024-09-23 17:13:37.243\u001b[0m | \u001b[1mINFO    \u001b[0m | \u001b[36mingest.ingester\u001b[0m:\u001b[36mingest\u001b[0m:\u001b[36m134\u001b[0m - \u001b[1mSkipping ingestion of file 54707829-71e2-4248-ac4c-03bb605c175d.doc because it has extension .doc\u001b[0m\n",
      "\u001b[32m2024-09-23 17:13:37.243\u001b[0m | \u001b[1mINFO    \u001b[0m | \u001b[36mingest.ingester\u001b[0m:\u001b[36mingest\u001b[0m:\u001b[36m134\u001b[0m - \u001b[1mSkipping ingestion of file a3b1824a-77ca-4ca8-a61a-01e82ebafb61.doc because it has extension .doc\u001b[0m\n",
      "\u001b[32m2024-09-23 17:13:37.243\u001b[0m | \u001b[1mINFO    \u001b[0m | \u001b[36mingest.ingester\u001b[0m:\u001b[36mingest\u001b[0m:\u001b[36m134\u001b[0m - \u001b[1mSkipping ingestion of file 2dffb324-ca55-49d9-aaf1-01935c5a30c1.doc because it has extension .doc\u001b[0m\n",
      "\u001b[32m2024-09-23 17:13:37.244\u001b[0m | \u001b[1mINFO    \u001b[0m | \u001b[36mingest.ingester\u001b[0m:\u001b[36mingest\u001b[0m:\u001b[36m134\u001b[0m - \u001b[1mSkipping ingestion of file 3a216420-d6b2-4408-8d9a-006a42971cf2.doc because it has extension .doc\u001b[0m\n",
      "\u001b[32m2024-09-23 17:13:37.244\u001b[0m | \u001b[1mINFO    \u001b[0m | \u001b[36mingest.ingester\u001b[0m:\u001b[36mingest\u001b[0m:\u001b[36m134\u001b[0m - \u001b[1mSkipping ingestion of file a5d04595-4983-4cbc-a286-02af7b087b2c.doc because it has extension .doc\u001b[0m\n",
      "\u001b[32m2024-09-23 17:13:37.244\u001b[0m | \u001b[1mINFO    \u001b[0m | \u001b[36mingest.ingester\u001b[0m:\u001b[36mingest\u001b[0m:\u001b[36m134\u001b[0m - \u001b[1mSkipping ingestion of file 2cbf728c-6c3c-4202-bc04-012591aa8c45.doc because it has extension .doc\u001b[0m\n",
      "\u001b[32m2024-09-23 17:13:37.244\u001b[0m | \u001b[1mINFO    \u001b[0m | \u001b[36mingest.ingester\u001b[0m:\u001b[36mingest\u001b[0m:\u001b[36m134\u001b[0m - \u001b[1mSkipping ingestion of file 415dfd11-cefc-4f95-9c2b-00a65e00fd57.doc because it has extension .doc\u001b[0m\n",
      "\u001b[32m2024-09-23 17:13:37.245\u001b[0m | \u001b[1mINFO    \u001b[0m | \u001b[36mingest.ingester\u001b[0m:\u001b[36mingest\u001b[0m:\u001b[36m134\u001b[0m - \u001b[1mSkipping ingestion of file 3e18b96d-730c-41b7-8729-0341ba80587c.doc because it has extension .doc\u001b[0m\n",
      "\u001b[32m2024-09-23 17:13:37.245\u001b[0m | \u001b[1mINFO    \u001b[0m | \u001b[36mingest.ingester\u001b[0m:\u001b[36mingest\u001b[0m:\u001b[36m134\u001b[0m - \u001b[1mSkipping ingestion of file bd8abefe-e967-4e03-8125-0356d0a9b6f2.doc because it has extension .doc\u001b[0m\n",
      "\u001b[32m2024-09-23 17:13:37.245\u001b[0m | \u001b[1mINFO    \u001b[0m | \u001b[36mingest.ingester\u001b[0m:\u001b[36mingest\u001b[0m:\u001b[36m134\u001b[0m - \u001b[1mSkipping ingestion of file c13e5dd9-a8a2-4204-ac02-034218444294.doc because it has extension .doc\u001b[0m\n",
      "\u001b[32m2024-09-23 17:13:37.502\u001b[0m | \u001b[1mINFO    \u001b[0m | \u001b[36mingest.ingester\u001b[0m:\u001b[36mingest\u001b[0m:\u001b[36m140\u001b[0m - \u001b[1mVector store already exists for specified settings and folder ./docs/kamerVragen\u001b[0m\n",
      "\u001b[32m2024-09-23 17:13:37.785\u001b[0m | \u001b[1mINFO    \u001b[0m | \u001b[36mquery.querier\u001b[0m:\u001b[36mmake_chain\u001b[0m:\u001b[36m97\u001b[0m - \u001b[1mLoaded chromadb from folder ./vector_stores/kamerVragen_chromadb_1024_256_local_embeddings_textgain/allnli-GroNLP-bert-base-dutch-cased\u001b[0m\n",
      "\u001b[32m2024-09-23 17:13:37.786\u001b[0m | \u001b[1mINFO    \u001b[0m | \u001b[36mquery.querier\u001b[0m:\u001b[36mmake_chain\u001b[0m:\u001b[36m122\u001b[0m - \u001b[1mExecuted Querier.make_chain\u001b[0m\n"
     ]
    }
   ],
   "source": [
    "# Init\n",
    "querier = Querier()\n",
    "folderSelected = \"kamerVragen\"\n",
    "my_folder_path_selected, my_vectordb_folder_path_selected = ut.create_vectordb_name(folderSelected)\n",
    "ingester = Ingester(folderSelected, my_folder_path_selected, my_vectordb_folder_path_selected)\n",
    "ingester.ingest(mode=IngestionMode.question_answer_per_page, forceRebuild=False, addedMetaDataURLCSV=\"docs/metadata.csv\")\n",
    "querier.make_chain(folderSelected, my_vectordb_folder_path_selected)"
   ]
  },
  {
   "cell_type": "code",
   "execution_count": 4,
   "metadata": {},
   "outputs": [
    {
     "name": "stderr",
     "output_type": "stream",
     "text": [
      "\u001b[32m2024-09-23 17:13:38.173\u001b[0m | \u001b[1mINFO    \u001b[0m | \u001b[36mquery.querier\u001b[0m:\u001b[36mget_documents_with_scores\u001b[0m:\u001b[36m126\u001b[0m - \u001b[1mTopscore most similar docs: 0.7394572496414185\u001b[0m\n"
     ]
    },
    {
     "name": "stdout",
     "output_type": "stream",
     "text": [
      "Documents: {'Source': 'https://gegevensmagazijn.tweedekamer.nl/OData/v4/2.0/Document(18e8776a-9d24-4977-bc5f-00eb5d5ba5f7)/resource', 'Subject': 'Antwoord op vragen van het lid Peters over het bericht van een “veroordeelde stalker, neptherapeut, fraudeur en toch jeugdzorgdirecteur”', 'author': '', 'chunk': 1, 'filename': '18e8776a-9d24-4977-bc5f-00eb5d5ba5f7.pdf', 'page_number': 7, 'source': 'p7-1', 'title': 'None'}\n",
      " Om de vragen te beantwoorden, kunt u zich richten aan de beschikbare context. Als er geen informatie in de context is die overeenkomt met de gestelde vraag, zeg je dat er geen informatie beschikbaar is om de vraag te beantwoorden. \n",
      "\n",
      "Voorbeeld: Vraag: Kunt u aangeven welke maatregelen en acties ondernomen zijn naar aanleiding van het inspectierapport, welke tekortkomingen nog niet verholen zijn en op welke termijn dat wel wordt gedaan? Antwoord: Er is geen informatie in de context over de genomen maatregelen, acties of tekortkomingen naar aanleiding van het inspectierapport. Er is dus geen antwoord mogelijk op deze vraag."
     ]
    },
    {
     "name": "stderr",
     "output_type": "stream",
     "text": [
      "\u001b[32m2024-09-23 17:13:53.097\u001b[0m | \u001b[1mINFO    \u001b[0m | \u001b[36mquery.querier\u001b[0m:\u001b[36mask_question\u001b[0m:\u001b[36m187\u001b[0m - \u001b[1mTopscore: 0.7394572496414185\u001b[0m\n"
     ]
    },
    {
     "data": {
      "text/plain": [
       "{'question': '\\n### OBJECTIVE ###\\nJe bent een assistent voor de rijksoverheid. Jouw taak is om vragen te beantwoorden in het Nederlands. Zorg ervoor dat je alleen antwoord geeft op basis van de beschikbare context en dat je daar ook naar verwijst in je antwoord.\\n\\n### AUDIENCE ###\\nDe doelgroep van jouw antwoorden zijn ambtenaren. Geef alle relevante informatie uit de context, antwoord in het Nederlands leg in maximaal 100 woorden zoveel mogelijk uit.\\n\\n### GUARDRAILS ###\\nIndien de context onvoldoende informatie bevat om de vraag te beantwoorden, verzin dan geen informatie maar geef aan dat er onvoldoende informatie beschikbaar is.\\n\\n### INSTRUCTIONS ###\\n- Beantwoord de vraag altijd in het Nederlands, zelfs als de context in het Engels is gesteld.\\n- Vermijd het herhalen van de vraag in het antwoord en het herhalen van de instructies. Voer de instructies uit en geef een concreet antwoord op de gestelde vraag.\\n- Geef een stapsgewijze redenering bij het beantwoorden van de vraag en refereer naar specifieke zinnen uit de context die hebben bijgedragen aan het antwoord.\\n- Houd je antwoord nauw verbonden met de context en vermijd het toevoegen van informatie die niet expliciet in de context wordt vermeld.\\n\\n- Voor meer informatie over de context, zeg het bestandsnaam die gevonden is in de source_document. Mits deze beschikbaar is.\\n\\n### QUESTION ### \\n\\n \\n                     Kunt u aangeven welke maatregelen en acties ondernomen zijn naar\\naanleiding van het inspectierapport, welke tekortkomingen nog niet verholpen\\nzijn en op welke termijn dat wel wordt gedaan?\\n                     ',\n",
       " 'chat_history': [HumanMessage(content='\\n                     Kunt u aangeven welke maatregelen en acties ondernomen zijn naar\\naanleiding van het inspectierapport, welke tekortkomingen nog niet verholpen\\nzijn en op welke termijn dat wel wordt gedaan?\\n                     '),\n",
       "  AIMessage(content=' Om de vragen te beantwoorden, kunt u zich richten aan de beschikbare context. Als er geen informatie in de context is die overeenkomt met de gestelde vraag, zeg je dat er geen informatie beschikbaar is om de vraag te beantwoorden. \\n\\nVoorbeeld: Vraag: Kunt u aangeven welke maatregelen en acties ondernomen zijn naar aanleiding van het inspectierapport, welke tekortkomingen nog niet verholen zijn en op welke termijn dat wel wordt gedaan? Antwoord: Er is geen informatie in de context over de genomen maatregelen, acties of tekortkomingen naar aanleiding van het inspectierapport. Er is dus geen antwoord mogelijk op deze vraag.')],\n",
       " 'metadata': {'Source': 'https://gegevensmagazijn.tweedekamer.nl/OData/v4/2.0/Document(18e8776a-9d24-4977-bc5f-00eb5d5ba5f7)/resource',\n",
       "  'Subject': 'Antwoord op vragen van het lid Peters over het bericht van een “veroordeelde stalker, neptherapeut, fraudeur en toch jeugdzorgdirecteur”',\n",
       "  'author': '',\n",
       "  'chunk': 1,\n",
       "  'filename': '18e8776a-9d24-4977-bc5f-00eb5d5ba5f7.pdf',\n",
       "  'page_number': 7,\n",
       "  'source': 'p7-1',\n",
       "  'title': 'None'},\n",
       " 'answer': ' Om de vragen te beantwoorden, kunt u zich richten aan de beschikbare context. Als er geen informatie in de context is die overeenkomt met de gestelde vraag, zeg je dat er geen informatie beschikbaar is om de vraag te beantwoorden. \\n\\nVoorbeeld: Vraag: Kunt u aangeven welke maatregelen en acties ondernomen zijn naar aanleiding van het inspectierapport, welke tekortkomingen nog niet verholen zijn en op welke termijn dat wel wordt gedaan? Antwoord: Er is geen informatie in de context over de genomen maatregelen, acties of tekortkomingen naar aanleiding van het inspectierapport. Er is dus geen antwoord mogelijk op deze vraag.',\n",
       " 'source_documents': [(Document(page_content='Vraag 20 Indien de IGJ, nadat zij wist van deze misstanden, geen maatregelen heeft genomen, welke verklaring heeft u dan daarvoor? Wat is daarover uw oordeel en wat betekent dat voor de bestaande werkwijze van de IGJ? Antwoord 20 Zie het antwoord op vraag 19. Het meest recente onderzoek naar deze instelling is nog niet afgerond. De inspectie heeft onlangs de opgestapte raad van commissarissen gesproken en een toezichtsbezoek gebracht. Wanneer de inspectie tekortkomingen constateert, kan zij hierop handhaven.', metadata={'Source': 'https://gegevensmagazijn.tweedekamer.nl/OData/v4/2.0/Document(18e8776a-9d24-4977-bc5f-00eb5d5ba5f7)/resource', 'Subject': 'Antwoord op vragen van het lid Peters over het bericht van een “veroordeelde stalker, neptherapeut, fraudeur en toch jeugdzorgdirecteur”', 'author': '', 'chunk': 1, 'filename': '18e8776a-9d24-4977-bc5f-00eb5d5ba5f7.pdf', 'page_number': 7, 'source': 'p7-1', 'title': 'None'}),\n",
       "   0.7394572496414185),\n",
       "  (Document(page_content='Vraag 1 Heeft u kennisgenomen van het bericht dat de Velsertunnel onveilig is?1 Vraag 2 Kunt u aangeven welke maatregelen en acties ondernomen zijn naar aanleiding van het inspectierapport, welke tekortkomingen nog niet verholpen zijn en op welke termijn dat wel wordt gedaan? Antwoord 1 Ja. Antwoord 2 Het inspectierapport is in opdracht van Rijkswaterstaat in 2011 opgesteld. Het heeft aan de basis gelegen van het onderhoud dat de afgelopen jaren aan de tunnel is uitgevoerd en nog uitgevoerd gaat worden.', metadata={'Source': 'https://gegevensmagazijn.tweedekamer.nl/OData/v4/2.0/Document(fd4eccc9-f782-401f-8eb4-01edfe9f5211)/resource', 'Subject': 'Antwoord op vragen van het lid De Rouwe over het bericht dat de Velsertunnel onveilig is', 'author': '', 'chunk': 0, 'filename': 'fd4eccc9-f782-401f-8eb4-01edfe9f5211.pdf', 'page_number': 1, 'source': 'p1-0', 'title': 'None'}),\n",
       "   0.7160534858703613),\n",
       "  (Document(page_content='Vraag 8 Heeft de Inspectie Leefomgeving en Transport een rapport over deze onregelmatigheden opgesteld? Zo ja, wanneer kan de Kamer dit verwachten? Zo nee, waarom niet? Antwoord 7 Het is nog te vroeg om te kunnen vaststellen of de geconstateerde onregel-matigheden consequenties hebben voor de vervoerder en/of ProRail. Het strafrechtelijk onderzoek zal dit moeten uitwijzen. De eventuele sancties zullen op basis van de betreffende regelgeving worden opgelegd. Antwoord 8 Er is en wordt geen rapport over de onregelmatigheden door de ILT opgesteld. De ILT heeft een PV opgemaakt over de door haar geconstateerde overtredingen. De resultaten van het strafrechtelijk onderzoek dat bij het Openbaar Ministerie loopt, worden echter niet openbaar gemaakt.', metadata={'Source': 'https://gegevensmagazijn.tweedekamer.nl/OData/v4/2.0/Document(799b3fdf-7cb2-4a6c-899a-03279ba0e55f)/resource', 'Subject': 'Antwoord vragen Van Tongeren over de onregelmatigheden bij chloortransport door Amersfoort ', 'author': '', 'chunk': 3, 'filename': '799b3fdf-7cb2-4a6c-899a-03279ba0e55f.pdf', 'page_number': 2, 'source': 'p2-3', 'title': 'None'}),\n",
       "   0.7009548544883728),\n",
       "  (Document(page_content='Vraag 4 Heeft u inmiddels kennisgenomen van de feiten? Antwoord 3 De Inspectie Openbare Orde en Veiligheid (Inspectie OOV) heeft kennis genomen van het genoemde onderzoeksrapport, dat overigens openbaar is. Dit om te bezien of de veiligheidsregio in staat is haar taken naar behoren uit te voeren en of de al in gang gezette ontwikkeling van de veiligheidsregio (verbetertraject) zich blijft doorzetten. De Inspectie OOV houdt toezicht op de vraag hoe veiligheidsregio’s en gemeenten hun taken uitoefenen en wet- en regelgeving naleven. In april 2010 heeft de Inspectie OOV in haar rapport «De Staat van de rampenbestrij-ding» met betrekking tot de regio Limburg-Noord geconstateerd dat de VRLN eind 2009 veel aandachtspunten had opgepakt in verschillende projecten ofwel reeds in planvorming had uitgewerkt. Op een aantal punten was nog ruimte voor verbetering (zie Kamerstukken II, 2009–2010, 29 517, nr. 40. Antwoord 4 Ik heb kennisgenomen van de feiten uit de openbare rapportage.', metadata={'Source': 'https://gegevensmagazijn.tweedekamer.nl/OData/v4/2.0/Document(941523a1-47b6-49a3-be93-01a7f2b253f0)/resource', 'Subject': 'Antwoord vragen lid Hennis-Plasschaert over onderwerp wanorde in de Veiligheidsregio Limburg-Noord', 'author': '', 'chunk': 0, 'filename': '941523a1-47b6-49a3-be93-01a7f2b253f0.pdf', 'page_number': 2, 'source': 'p2-0', 'title': 'None'}),\n",
       "   0.6628513336181641)]}"
      ]
     },
     "execution_count": 4,
     "metadata": {},
     "output_type": "execute_result"
    }
   ],
   "source": [
    "querier.ask_question(\"\"\"\n",
    "                     Kunt u aangeven welke maatregelen en acties ondernomen zijn naar\n",
    "aanleiding van het inspectierapport, welke tekortkomingen nog niet verholpen\n",
    "zijn en op welke termijn dat wel wordt gedaan?\n",
    "                     \"\"\", mode=EnumMode.metadata, system_prompt_override=SYSTEM_PROMPT)"
   ]
  },
  {
   "cell_type": "code",
   "execution_count": null,
   "metadata": {},
   "outputs": [],
   "source": []
  },
  {
   "cell_type": "code",
   "execution_count": 5,
   "metadata": {},
   "outputs": [
    {
     "name": "stderr",
     "output_type": "stream",
     "text": [
      "\u001b[32m2024-09-23 17:13:53.228\u001b[0m | \u001b[1mINFO    \u001b[0m | \u001b[36mquery.querier\u001b[0m:\u001b[36mget_documents_with_scores\u001b[0m:\u001b[36m126\u001b[0m - \u001b[1mTopscore most similar docs: 0.5404065251350403\u001b[0m\n"
     ]
    },
    {
     "data": {
      "text/plain": [
       "[(Document(page_content='Vraag 2 Is bij u bekend in welke gemeenten op dit moment sprake is van de situatie dat meerdere aanbieders bezig zijn met of plannen hebben voor de aanleg van een glasvezelnetwerk? Zo nee, wilt u dit monitoren en deze informatie met de Kamer delen? Antwoord 2 De Autoriteit Consument en Markt (ACM) heeft een interactief dashboard en geografische kaart beschikbaar, waarmee per Nederlands postcodegebied inzichtelijk is hoeveel glasvezelexploitanten in een gebied actief zijn. 2 Dit dashboard en de kaart maken onderdeel uit van de structurele Telecommoni-tor, waarbij de ACM elk kwartaal gegevens opvraagt bij glasvezelexploitanten over het aantal gerealiseerde en geplande glasvezelaansluitingen. Om redenen van bedrijfsgevoeligheid worden daarbij alleen de gerealiseerde aansluitingen gepubliceerd in het dashboard en op de kaart, en niet de geplande aansluitingen.', metadata={'Source': 'https://gegevensmagazijn.tweedekamer.nl/OData/v4/2.0/Document(1b039d7d-7969-4ceb-97dc-015afaac67ab)/resource', 'Subject': \"Antwoord op vragen van het lid Inge van Dijk over het bericht 'In de slag om glasvezel blijft geen tegel onberoerd'\", 'author': '', 'chunk': 1, 'filename': '1b039d7d-7969-4ceb-97dc-015afaac67ab.pdf', 'page_number': 1, 'source': 'p1-1', 'title': 'None'}),\n",
       "  0.5404065251350403),\n",
       " (Document(page_content='Vraag 4 Bent u bereid om het «Web-based» concept zoals voorgesteld door de gemeente Delft nader te onderzoeken en de Kamer ultimo 2012 te berichten over uw conclusies? Antwoord 4 Ja, ik neem deze optie mee in de doorontwikkeling van het Omgevingsloket online en de gezamenlijke digitale agenda voor het omgevingsrecht en kan de Kamer daarover begin 2013 berichten.', metadata={'Source': 'https://gegevensmagazijn.tweedekamer.nl/OData/v4/2.0/Document(3b1040c6-97ee-4f74-ac29-0122a98d27de)/resource', 'Subject': 'Antwoord vragen van het lid Paulus Jansen over standaardisatie van software rond het Omgevingsloket', 'author': '', 'chunk': 1, 'filename': '3b1040c6-97ee-4f74-ac29-0122a98d27de.pdf', 'page_number': 2, 'source': 'p2-1', 'title': 'None'}),\n",
       "  0.5120712518692017),\n",
       " (Document(page_content='Vraag 12 In hoeverre vertrouwt u Facebook, dat allerlei beloftes doet over privacy, maar in het verleden bijvoorbeeld met Whatsapp vaak heeft aangetoond beloftes te breken voor commercieel gewin, een digitale munt als Libra toe? Antwoord 12 Ongeacht welk bedrijf het initiatief neemt moet er goed gekeken worden naar de risico’s die deze innovaties meebrengen. Zo is het belangrijk dat het publieke belang van de continuïteit en stabiliteit van het betalingsverkeer blijvend goed verankerd is. 8 Het is uiteindelijk aan gebruikers zelf om te besluiten of zij een aanbieder van dergelijke diensten vertrouwen.', metadata={'Source': 'https://gegevensmagazijn.tweedekamer.nl/OData/v4/2.0/Document(989742d5-5815-43e2-98e8-03ccd6dc5ea5)/resource', 'Subject': 'Antwoord op vragen van het lid Nijboer over de libra ', 'author': '', 'chunk': 1, 'filename': '989742d5-5815-43e2-98e8-03ccd6dc5ea5.pdf', 'page_number': 4, 'source': 'p4-1', 'title': 'None'}),\n",
       "  0.5094425082206726),\n",
       " (Document(page_content='Vraag 1 Bent u bekend met de aankondiging van de digitale munt «Libra» door Facebook? Vraag 2 Wat is de Libra? Kunt u een beschrijving geven van de werking en de techniek erachter? Kunt u zoveel mogelijk details van de «munt» achterhalen en de Kamer daarover informeren? Antwoord 1 Ja. Antwoord 2 Op dit moment is weinig informatie bekend over de Libra en hoe deze in de praktijk zal gaan werken. Voor zover duidelijk is uit de informatie die beschikbaar is, gaat het om een transactiesysteem, gebaseerd op een aantal onderliggende technologieën van een blockchain, waarop bepaalde eenheden worden uitgeven (de Libra).', metadata={'Source': 'https://gegevensmagazijn.tweedekamer.nl/OData/v4/2.0/Document(989742d5-5815-43e2-98e8-03ccd6dc5ea5)/resource', 'Subject': 'Antwoord op vragen van het lid Nijboer over de libra ', 'author': '', 'chunk': 0, 'filename': '989742d5-5815-43e2-98e8-03ccd6dc5ea5.pdf', 'page_number': 1, 'source': 'p1-0', 'title': 'None'}),\n",
       "  0.49866175651550293)]"
      ]
     },
     "execution_count": 5,
     "metadata": {},
     "output_type": "execute_result"
    }
   ],
   "source": [
    "querier.get_documents_with_scores(\"\"\"Hoe wordt er gekeken naar het platform X\"\"\")"
   ]
  },
  {
   "cell_type": "code",
   "execution_count": 6,
   "metadata": {},
   "outputs": [],
   "source": [
    "querier.clear_history()"
   ]
  }
 ],
 "metadata": {
  "kernelspec": {
   "display_name": "Python 3",
   "language": "python",
   "name": "python3"
  },
  "language_info": {
   "codemirror_mode": {
    "name": "ipython",
    "version": 3
   },
   "file_extension": ".py",
   "mimetype": "text/x-python",
   "name": "python",
   "nbconvert_exporter": "python",
   "pygments_lexer": "ipython3",
   "version": "3.11.10"
  }
 },
 "nbformat": 4,
 "nbformat_minor": 2
}
