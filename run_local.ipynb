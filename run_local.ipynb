{
 "cells": [
  {
   "cell_type": "code",
   "execution_count": null,
   "metadata": {},
   "outputs": [],
   "source": [
    "import pymupdf4llm\n",
    "import pymupdf\n",
    "doc = pymupdf.Document(\"./tmp/fa98938f-c9cd-443d-9cff-64393081f98c.pdf\")\n",
    "metadata = doc.metadata\n",
    "print(metadata)\n",
    "print(metadata.get('subject') or \"unknown\")\n",
    "\n",
    "markdown = pymupdf4llm.to_markdown(doc)\n",
    "doc.close()\n",
    "print(markdown)"
   ]
  },
  {
   "cell_type": "code",
   "execution_count": null,
   "metadata": {},
   "outputs": [],
   "source": [
    "from pypdf import PdfReader\n",
    "\n",
    "pdf = PdfReader(\"./tmp/0aa9167c-cdbe-4a52-ac90-4b5437a654b3.pdf\")\n",
    "\n",
    "text = \"\"\n",
    "\n",
    "for page in pdf.pages:\n",
    "    text += page.extract_text()\n",
    "    \n",
    "    \n",
    "print(text)"
   ]
  },
  {
   "cell_type": "code",
   "execution_count": null,
   "metadata": {},
   "outputs": [],
   "source": [
    "import os\n",
    "os.environ[\"local\"] = \"true\""
   ]
  },
  {
   "cell_type": "code",
   "execution_count": null,
   "metadata": {},
   "outputs": [],
   "source": [
    "# Install the requests module\n",
    "%pip install requests\n",
    "\n",
    "from DataFetcher.run_local import run_local_datafetcher\n",
    "\n",
    "\n",
    "run_local_datafetcher()"
   ]
  },
  {
   "cell_type": "code",
   "execution_count": null,
   "metadata": {},
   "outputs": [],
   "source": [
    "from deployment.run_local import run_local_ingest_stores\n",
    "\n",
    "run_local_ingest_stores()"
   ]
  },
  {
   "cell_type": "code",
   "execution_count": null,
   "metadata": {},
   "outputs": [],
   "source": [
    "from deployment.run_local import run_local_query_stores\n",
    "run_local_query_stores(\"Hallo\")"
   ]
  },
  {
   "cell_type": "code",
   "execution_count": 2,
   "metadata": {},
   "outputs": [
    {
     "name": "stderr",
     "output_type": "stream",
     "text": [
      "Loading checkpoint shards: 100%|██████████| 2/2 [00:08<00:00,  4.35s/it]\n",
      "Truncation was not explicitly activated but `max_length` is provided a specific value, please use `truncation=True` to explicitly truncate examples to max length. Defaulting to 'longest_first' truncation strategy. If you encode pairs of sequences (GLUE-style) with the tokenizer you can select this strategy more precisely by providing a specific strategy to `truncation`.\n",
      "Both `max_new_tokens` (=500) and `max_length`(=100) seem to have been set. `max_new_tokens` will take precedence. Please refer to the documentation for more information. (https://huggingface.co/docs/transformers/main/en/main_classes/text_generation)\n"
     ]
    },
    {
     "name": "stdout",
     "output_type": "stream",
     "text": [
      "Model loaded\n",
      "{'do_sample': True, 'temperature': 1.0, 'max_new_tokens': 500, 'max_length': 100}\n"
     ]
    },
    {
     "data": {
      "text/plain": [
       "'Hoi! Als ik je nog kan helpen, laat het me zeker weten. Heb je nog andere vragen?'"
      ]
     },
     "execution_count": 2,
     "metadata": {},
     "output_type": "execute_result"
    }
   ],
   "source": [
    "from inference.run_local import infer_run_local\n",
    "\n",
    "infer_run_local(\"hallo\", systemPrompt=\"JIJ bent een robot\", generation_kwargs={\"do_sample\": True, \"max_length\": 100})"
   ]
  },
  {
   "cell_type": "code",
   "execution_count": null,
   "metadata": {},
   "outputs": [],
   "source": []
  }
 ],
 "metadata": {
  "kernelspec": {
   "display_name": "Python 3",
   "language": "python",
   "name": "python3"
  },
  "language_info": {
   "codemirror_mode": {
    "name": "ipython",
    "version": 3
   },
   "file_extension": ".py",
   "mimetype": "text/x-python",
   "name": "python",
   "nbconvert_exporter": "python",
   "pygments_lexer": "ipython3",
   "version": "3.10.15"
  }
 },
 "nbformat": 4,
 "nbformat_minor": 2
}
