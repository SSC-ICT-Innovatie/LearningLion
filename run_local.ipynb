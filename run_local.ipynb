{
 "cells": [
  {
   "cell_type": "code",
   "execution_count": null,
   "metadata": {},
   "outputs": [],
   "source": [
    "import pymupdf4llm\n",
    "import pymupdf\n",
    "doc = pymupdf.Document(\"./tmp/fa98938f-c9cd-443d-9cff-64393081f98c.pdf\")\n",
    "metadata = doc.metadata\n",
    "print(metadata)\n",
    "print(metadata.get('subject') or \"unknown\")\n",
    "\n",
    "markdown = pymupdf4llm.to_markdown(doc)\n",
    "doc.close()\n",
    "print(markdown)"
   ]
  },
  {
   "cell_type": "code",
   "execution_count": null,
   "metadata": {},
   "outputs": [],
   "source": [
    "from pypdf import PdfReader\n",
    "\n",
    "pdf = PdfReader(\"./tmp/0aa9167c-cdbe-4a52-ac90-4b5437a654b3.pdf\")\n",
    "\n",
    "text = \"\"\n",
    "\n",
    "for page in pdf.pages:\n",
    "    text += page.extract_text()\n",
    "    \n",
    "    \n",
    "print(text)"
   ]
  },
  {
   "cell_type": "code",
   "execution_count": null,
   "metadata": {},
   "outputs": [],
   "source": [
    "import os\n",
    "os.environ[\"local\"] = \"true\""
   ]
  },
  {
   "cell_type": "code",
   "execution_count": null,
   "metadata": {},
   "outputs": [],
   "source": [
    "# Install the requests module\n",
    "%pip install requests\n",
    "\n",
    "from DataFetcher.run_local import run_local_datafetcher\n",
    "\n",
    "\n",
    "run_local_datafetcher()"
   ]
  },
  {
   "cell_type": "code",
   "execution_count": null,
   "metadata": {},
   "outputs": [],
   "source": [
    "from ingester.run_local import run_local_ingest_stores\n",
    "\n",
    "run_local_ingest_stores()"
   ]
  },
  {
   "cell_type": "code",
   "execution_count": 2,
   "metadata": {},
   "outputs": [
    {
     "name": "stdout",
     "output_type": "stream",
     "text": [
      "Querying stores\n",
      "Setting up embeddings\n",
      "Embeddings set up\n",
      "Embedding class initialized\n",
      "Database class initialized\n",
      "Setting up database with range Range.Tiny\n",
      "Query class initialized\n",
      "Setting up ensemble retriever\n",
      "Ensemble retriever set up\n",
      "Querying: Hallo\n",
      "Document: periodiek contact., Score: None\n",
      "Document: Arriva?\n",
      "Answer 9: Antwoord 9, Score: None\n",
      "Document: Question 8: Vraag 8\n",
      "Kunt u deze vragen zo spoedig mogelijk beantwoorden, bij voorkeur voor het, Score: None\n",
      "Document: komende tijd nadrukkelijk te monitoren?\n",
      "Answer 7: Antwoord 7, Score: None\n",
      "Document: randstad te gaan?\n",
      "Answer 2: Antwoord 2, Score: None\n",
      "Document: Vraag 11 Kunt u voorgaande vragen één voor één beantwoorden?, Score: None\n",
      "Document: Vraag 6 Heeft u inmiddels ook signalen ontvangen van antisemitisme jegens Joodse leerlingen op onderwijsinstellingen?, Score: None\n",
      "Document: Vraag 8 Bent u bereid te onderzoeken wat de potentie is van een investering in rechtswinkels door onder andere investeringen in scholingen, naamsbekendheid, digitalisering en het versterken van de band met tolken en de sociaal advocatuur?, Score: None\n",
      "Document: Vraag 9 Bent u bereid met onderwijsinstellingen in gesprek te gaan om te bevorderen dat ook zij de nodige investeringen doen in rechtswinkels in het belang van de eigen studenten, aangezien ook veel studenten hier werkzaam zijn?, Score: None\n",
      "Got 9 results\n"
     ]
    },
    {
     "data": {
      "text/plain": [
       "[{'text': 'periodiek contact.',\n",
       "  'metadata': {'UUID': '0aa6c23f-c5b9-4d5d-a5f2-03b2912dbf02',\n",
       "   'filename': '0aa6c23f-c5b9-4d5d-a5f2-03b2912dbf02.pdf',\n",
       "   'producer': 'File downloaded from https://gegevensmagazijn.tweedekamer.nl/OData/v4/2.0/Document(0aa6c23f-c5b9-4d5d-a5f2-03b2912dbf02)/resource',\n",
       "   'subject': 'Antwoord op vragen van het lid Van Nispen over de grote toegevoegde waarde die rechtswinkels hebben voor eerstelijns rechtshulpverlening',\n",
       "   'total_pages': 0}},\n",
       " {'text': 'Arriva?\\nAnswer 9: Antwoord 9',\n",
       "  'metadata': {'UUID': '0ba29aa4-dded-4bf5-8de1-ecb97623955d',\n",
       "   'filename': '0ba29aa4-dded-4bf5-8de1-ecb97623955d.pdf',\n",
       "   'producer': 'File downloaded from https://gegevensmagazijn.tweedekamer.nl/OData/v4/2.0/Document(0ba29aa4-dded-4bf5-8de1-ecb97623955d)/resource',\n",
       "   'subject': 'Antwoord op vragen van het lid De Hoop over de verkoop van vervoersbedrijf Arriva aan een Amerikaanse investeringsmaatschappij',\n",
       "   'total_pages': 0}},\n",
       " {'text': 'Question 8: Vraag 8\\nKunt u deze vragen zo spoedig mogelijk beantwoorden, bij voorkeur voor het',\n",
       "  'metadata': {'UUID': '0aa9167c-cdbe-4a52-ac90-4b5437a654b3',\n",
       "   'filename': '0aa9167c-cdbe-4a52-ac90-4b5437a654b3.pdf',\n",
       "   'producer': 'File downloaded from https://gegevensmagazijn.tweedekamer.nl/OData/v4/2.0/Document(0aa9167c-cdbe-4a52-ac90-4b5437a654b3)/resource',\n",
       "   'subject': 'Antwoord op vragen van de leden Sjoerdsma en Paternotte over het onderzoek naar het overlijden van een Nederlandse staatsburger in Gaza',\n",
       "   'total_pages': 0}},\n",
       " {'text': 'komende tijd nadrukkelijk te monitoren?\\nAnswer 7: Antwoord 7',\n",
       "  'metadata': {'UUID': '0b745316-d901-4fdd-9636-d1ce9e75aa40',\n",
       "   'filename': '0b745316-d901-4fdd-9636-d1ce9e75aa40.pdf',\n",
       "   'producer': 'File downloaded from https://gegevensmagazijn.tweedekamer.nl/OData/v4/2.0/Document(0b745316-d901-4fdd-9636-d1ce9e75aa40)/resource',\n",
       "   'subject': 'Antwoord op vragen van de leden Bikker en Ellian over antisemitisme in Nederland',\n",
       "   'total_pages': 0}},\n",
       " {'text': 'randstad te gaan?\\nAnswer 2: Antwoord 2',\n",
       "  'metadata': {'UUID': '0b1c2719-39ba-442d-b909-0246fd45f1e8',\n",
       "   'filename': '0b1c2719-39ba-442d-b909-0246fd45f1e8.pdf',\n",
       "   'producer': 'File downloaded from https://gegevensmagazijn.tweedekamer.nl/OData/v4/2.0/Document(0b1c2719-39ba-442d-b909-0246fd45f1e8)/resource',\n",
       "   'subject': 'Antwoord op vragen van de leden Minhas en Heerema over het bericht “Reizigersvereniging boos over plannen NS. Intercity Alkmaar-Haarlem komt niet terug en op vrijdag minder treinen tussen Alkmaar en Amsterdam”',\n",
       "   'total_pages': 0}},\n",
       " {'text': 'Vraag 11 Kunt u voorgaande vragen één voor één beantwoorden?',\n",
       "  'metadata': {'UUID': '0ba29aa4-dded-4bf5-8de1-ecb97623955d',\n",
       "   'filename': '0ba29aa4-dded-4bf5-8de1-ecb97623955d.pdf',\n",
       "   'subject': 'Antwoord op vragen van het lid De Hoop over de verkoop van vervoersbedrijf Arriva aan een Amerikaanse investeringsmaatschappij',\n",
       "   'total_pages': 0,\n",
       "   'producer': 'File downloaded from https://gegevensmagazijn.tweedekamer.nl/OData/v4/2.0/Document(0ba29aa4-dded-4bf5-8de1-ecb97623955d)/resource',\n",
       "   'question_number': \"['11']\",\n",
       "   'retriever': 'bm25'}},\n",
       " {'text': 'Vraag 6 Heeft u inmiddels ook signalen ontvangen van antisemitisme jegens Joodse leerlingen op onderwijsinstellingen?',\n",
       "  'metadata': {'UUID': '0b745316-d901-4fdd-9636-d1ce9e75aa40',\n",
       "   'filename': '0b745316-d901-4fdd-9636-d1ce9e75aa40.pdf',\n",
       "   'subject': 'Antwoord op vragen van de leden Bikker en Ellian over antisemitisme in Nederland',\n",
       "   'total_pages': 0,\n",
       "   'producer': 'File downloaded from https://gegevensmagazijn.tweedekamer.nl/OData/v4/2.0/Document(0b745316-d901-4fdd-9636-d1ce9e75aa40)/resource',\n",
       "   'question_number': \"['6']\",\n",
       "   'retriever': 'bm25'}},\n",
       " {'text': 'Vraag 8 Bent u bereid te onderzoeken wat de potentie is van een investering in rechtswinkels door onder andere investeringen in scholingen, naamsbekendheid, digitalisering en het versterken van de band met tolken en de sociaal advocatuur?',\n",
       "  'metadata': {'UUID': '0aa6c23f-c5b9-4d5d-a5f2-03b2912dbf02',\n",
       "   'filename': '0aa6c23f-c5b9-4d5d-a5f2-03b2912dbf02.pdf',\n",
       "   'subject': 'Antwoord op vragen van het lid Van Nispen over de grote toegevoegde waarde die rechtswinkels hebben voor eerstelijns rechtshulpverlening',\n",
       "   'total_pages': 0,\n",
       "   'producer': 'File downloaded from https://gegevensmagazijn.tweedekamer.nl/OData/v4/2.0/Document(0aa6c23f-c5b9-4d5d-a5f2-03b2912dbf02)/resource',\n",
       "   'question_number': \"['8']\",\n",
       "   'retriever': 'bm25'}},\n",
       " {'text': 'Vraag 9 Bent u bereid met onderwijsinstellingen in gesprek te gaan om te bevorderen dat ook zij de nodige investeringen doen in rechtswinkels in het belang van de eigen studenten, aangezien ook veel studenten hier werkzaam zijn?',\n",
       "  'metadata': {'UUID': '0aa6c23f-c5b9-4d5d-a5f2-03b2912dbf02',\n",
       "   'filename': '0aa6c23f-c5b9-4d5d-a5f2-03b2912dbf02.pdf',\n",
       "   'subject': 'Antwoord op vragen van het lid Van Nispen over de grote toegevoegde waarde die rechtswinkels hebben voor eerstelijns rechtshulpverlening',\n",
       "   'total_pages': 0,\n",
       "   'producer': 'File downloaded from https://gegevensmagazijn.tweedekamer.nl/OData/v4/2.0/Document(0aa6c23f-c5b9-4d5d-a5f2-03b2912dbf02)/resource',\n",
       "   'question_number': \"['9']\",\n",
       "   'retriever': 'bm25'}}]"
      ]
     },
     "execution_count": 2,
     "metadata": {},
     "output_type": "execute_result"
    }
   ],
   "source": [
    "from querier.run_local import run_local_query_stores\n",
    "run_local_query_stores(\"Hallo\")"
   ]
  },
  {
   "cell_type": "code",
   "execution_count": null,
   "metadata": {},
   "outputs": [],
   "source": [
    "from inference.run_local import infer_run_local\n",
    "\n",
    "infer_run_local(\"hallo\", systemPrompt=\"JIJ bent een robot\", generation_kwargs={\"do_sample\": True, \"max_length\": 100})"
   ]
  },
  {
   "cell_type": "code",
   "execution_count": null,
   "metadata": {},
   "outputs": [],
   "source": []
  }
 ],
 "metadata": {
  "kernelspec": {
   "display_name": "Python 3",
   "language": "python",
   "name": "python3"
  },
  "language_info": {
   "codemirror_mode": {
    "name": "ipython",
    "version": 3
   },
   "file_extension": ".py",
   "mimetype": "text/x-python",
   "name": "python",
   "nbconvert_exporter": "python",
   "pygments_lexer": "ipython3",
   "version": "3.10.15"
  }
 },
 "nbformat": 4,
 "nbformat_minor": 2
}
